{
  "nbformat": 4,
  "nbformat_minor": 0,
  "metadata": {
    "colab": {
      "name": "Project1.ipynb",
      "provenance": [],
      "authorship_tag": "ABX9TyM9/8OvquemR/V0hhFt1RMP",
      "include_colab_link": true
    },
    "kernelspec": {
      "name": "python3",
      "display_name": "Python 3"
    }
  },
  "cells": [
    {
      "cell_type": "markdown",
      "metadata": {
        "id": "view-in-github",
        "colab_type": "text"
      },
      "source": [
        "<a href=\"https://colab.research.google.com/github/anwarbabukm/Machine-Learning/blob/master/CNN%20using%20MNIST.ipynb\" target=\"_parent\"><img src=\"https://colab.research.google.com/assets/colab-badge.svg\" alt=\"Open In Colab\"/></a>"
      ]
    },
    {
      "cell_type": "markdown",
      "metadata": {
        "id": "OZGWh1Egz0Th",
        "colab_type": "text"
      },
      "source": [
        "Image Classification using CNN."
      ]
    },
    {
      "cell_type": "code",
      "metadata": {
        "id": "f9scvEVnz7kw",
        "colab_type": "code",
        "colab": {
          "base_uri": "https://localhost:8080/",
          "height": 442
        },
        "outputId": "aae42eea-405f-4c92-e7ee-f61d8ee80bdc"
      },
      "source": [
        "from keras.datasets import mnist\n",
        "from keras.models import Sequential\n",
        "from keras.layers import Dense, Dropout, Conv2D, MaxPool2D, Flatten\n",
        "from keras.utils import np_utils\n",
        "\n",
        "# to calculate accuracy\n",
        "from sklearn.metrics import accuracy_score\n",
        "\n",
        "# loading the dataset\n",
        "(X_train, y_train), (X_test, y_test) = mnist.load_data()\n",
        "\n",
        "# building the input vector from the 28x28 pixels\n",
        "X_train = X_train.reshape(X_train.shape[0], 28, 28, 1)\n",
        "X_test = X_test.reshape(X_test.shape[0], 28, 28, 1)\n",
        "X_train = X_train.astype('float32')\n",
        "X_test = X_test.astype('float32')\n",
        "\n",
        "# normalizing the data to help with the training\n",
        "X_train /= 255\n",
        "X_test /= 255\n",
        "\n",
        "# one-hot encoding using keras' numpy-related utilities\n",
        "n_classes = 10\n",
        "print(\"Shape before one-hot encoding: \", y_train.shape)\n",
        "Y_train = np_utils.to_categorical(y_train, n_classes)\n",
        "Y_test = np_utils.to_categorical(y_test, n_classes)\n",
        "print(\"Shape after one-hot encoding: \", Y_train.shape)\n",
        "\n",
        "# building a linear stack of layers with the sequential model\n",
        "model = Sequential()\n",
        "# convolutional layer\n",
        "model.add(Conv2D(25, kernel_size=(3,3), strides=(1,1), padding='valid', activation='relu', input_shape=(28,28,1)))\n",
        "model.add(MaxPool2D(pool_size=(1,1)))\n",
        "# flatten output of conv\n",
        "model.add(Flatten())\n",
        "# hidden layer\n",
        "model.add(Dense(100, activation='relu'))\n",
        "# output layer\n",
        "model.add(Dense(10, activation='softmax'))\n",
        "\n",
        "# compiling the sequential model\n",
        "model.compile(loss='categorical_crossentropy', metrics=['accuracy'], optimizer='adam')\n",
        "\n",
        "# training the model for 10 epochs\n",
        "model.fit(X_train, Y_train, batch_size=128, epochs=10, validation_data=(X_test, Y_test))"
      ],
      "execution_count": 1,
      "outputs": [
        {
          "output_type": "stream",
          "text": [
            "Downloading data from https://storage.googleapis.com/tensorflow/tf-keras-datasets/mnist.npz\n",
            "11493376/11490434 [==============================] - 0s 0us/step\n",
            "Shape before one-hot encoding:  (60000,)\n",
            "Shape after one-hot encoding:  (60000, 10)\n",
            "Epoch 1/10\n",
            "469/469 [==============================] - 39s 82ms/step - loss: 0.1844 - accuracy: 0.9477 - val_loss: 0.0741 - val_accuracy: 0.9760\n",
            "Epoch 2/10\n",
            "469/469 [==============================] - 38s 82ms/step - loss: 0.0545 - accuracy: 0.9837 - val_loss: 0.0573 - val_accuracy: 0.9824\n",
            "Epoch 3/10\n",
            "469/469 [==============================] - 38s 81ms/step - loss: 0.0315 - accuracy: 0.9909 - val_loss: 0.0530 - val_accuracy: 0.9838\n",
            "Epoch 4/10\n",
            "469/469 [==============================] - 38s 81ms/step - loss: 0.0205 - accuracy: 0.9937 - val_loss: 0.0553 - val_accuracy: 0.9822\n",
            "Epoch 5/10\n",
            "469/469 [==============================] - 38s 81ms/step - loss: 0.0118 - accuracy: 0.9967 - val_loss: 0.0489 - val_accuracy: 0.9855\n",
            "Epoch 6/10\n",
            "469/469 [==============================] - 38s 82ms/step - loss: 0.0082 - accuracy: 0.9977 - val_loss: 0.0556 - val_accuracy: 0.9844\n",
            "Epoch 7/10\n",
            "469/469 [==============================] - 38s 81ms/step - loss: 0.0057 - accuracy: 0.9985 - val_loss: 0.0500 - val_accuracy: 0.9858\n",
            "Epoch 8/10\n",
            "469/469 [==============================] - 38s 81ms/step - loss: 0.0045 - accuracy: 0.9990 - val_loss: 0.0560 - val_accuracy: 0.9844\n",
            "Epoch 9/10\n",
            "469/469 [==============================] - 38s 81ms/step - loss: 0.0037 - accuracy: 0.9990 - val_loss: 0.0711 - val_accuracy: 0.9824\n",
            "Epoch 10/10\n",
            "469/469 [==============================] - 38s 81ms/step - loss: 0.0052 - accuracy: 0.9985 - val_loss: 0.0622 - val_accuracy: 0.9834\n"
          ],
          "name": "stdout"
        },
        {
          "output_type": "execute_result",
          "data": {
            "text/plain": [
              "<tensorflow.python.keras.callbacks.History at 0x7f0bea206588>"
            ]
          },
          "metadata": {
            "tags": []
          },
          "execution_count": 1
        }
      ]
    },
    {
      "cell_type": "code",
      "metadata": {
        "id": "cu7Pv5Cl31Lb",
        "colab_type": "code",
        "colab": {}
      },
      "source": [
        ""
      ],
      "execution_count": null,
      "outputs": []
    }
  ]
}